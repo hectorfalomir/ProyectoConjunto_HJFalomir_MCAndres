{
 "cells": [
  {
   "cell_type": "markdown",
   "metadata": {},
   "source": [
    "<img style=\"float: left; margin: 30px 15px 15px 15px;\" src=\"https://upload.wikimedia.org/wikipedia/commons/d/db/Logo_ITESO_normal.jpg\" width=\"300\" height=\"500\" /> \n",
    "    \n",
    "    \n",
    "### Simulación de procesos financieros. \n",
    "\n",
    "**Nombres:** \n",
    "\n",
    "Estudiante 1: Héctor Josué Falomir Patrón \n",
    "\n",
    "Estudiante 2: Andres Martines Covarrubias.\n",
    "\n",
    "**Fecha:** 21 de febrero del 2024.\n",
    "\n",
    "**Expediente** : `[7530461, ######]`\n",
    "**Profesor:** Oscar David Jaramillo Zuluaga.\n",
    "    \n",
    "**Link Github**: https://github.com/hectorfalomir/ProyectoConjunto_HJFalomir_MCAndres\n",
    "\n",
    "# Tarea 4: Clase 8"
   ]
  },
  {
   "cell_type": "markdown",
   "metadata": {},
   "source": [
    "> ## Tarea 4:"
   ]
  },
  {
   "cell_type": "markdown",
   "metadata": {},
   "source": [
    "### Ejercicio 1:\n",
    "Como ejemplo simple de una simulación de Monte Carlo, considere calcular la probabilidad de una suma particular del lanzamiento de tres dados (cada dado tiene valores del uno al seis). Además cada dado tiene las siguientes carácterísticas: el primer dado no está cargado (distribución uniforme todos son equiprobables); el segundo y tercer dado están cargados basados en una distribución binomial con parámetros (`n=5, p=0.5` y `n=5, p=0.2`). Calcule la probabilidad de que la suma resultante sea 7, 14 o 18. "
   ]
  },
  {
   "cell_type": "code",
   "execution_count": 39,
   "metadata": {
    "scrolled": true
   },
   "outputs": [
    {
     "name": "stdout",
     "output_type": "stream",
     "text": [
      "Probabilidad de obtener una suma de 7: 0.1551\n",
      "Probabilidad de obtener una suma de 14: 0.0038\n",
      "Probabilidad de obtener una suma de 18: 0.0\n"
     ]
    }
   ],
   "source": [
    "# Solución estudiante 1\n",
    "import numpy as np\n",
    "\n",
    "def simulacion(num_simulaciones):\n",
    "    resultados_dado1 = np.random.randint(1, 7, size=num_simulaciones)\n",
    "    resultados_dado2 = np.random.binomial(6, 0.5, size=num_simulaciones)\n",
    "    resultados_dado3 = np.random.binomial(6, 0.2, size=num_simulaciones)\n",
    "    \n",
    "    sumas = resultados_dado1 + resultados_dado2 + resultados_dado3\n",
    "    \n",
    "    return sumas\n",
    "\n",
    "num_simulacicones = 10000\n",
    "\n",
    "resultados_simulacion = simulacion(num_simulacicones)\n",
    "\n",
    "\n",
    "# Resultados\n",
    "print(f\"Probabilidad de obtener una suma de 7: {np.count_nonzero(resultados_simulacion==7)/num_simulacicones}\")\n",
    "print(f\"Probabilidad de obtener una suma de 14: {np.count_nonzero(resultados_simulacion==14)/num_simulacicones}\")\n",
    "print(f\"Probabilidad de obtener una suma de 18: {np.count_nonzero(resultados_simulacion==18)/num_simulacicones}\")"
   ]
  },
  {
   "cell_type": "code",
   "execution_count": 2,
   "metadata": {},
   "outputs": [
    {
     "name": "stdout",
     "output_type": "stream",
     "text": [
      "Probabilidad de obtener una suma de 7: 0.127021\n",
      "Probabilidad de obtener una suma de 14: 0.01365\n",
      "Probabilidad de obtener una suma de 18: 1e-06\n"
     ]
    }
   ],
   "source": [
    "# Solución estudiante 2\n",
    "import numpy as np\n",
    "\n",
    "np.random.seed(42)  \n",
    "\n",
    "num_lanzamientos = 1000000  \n",
    "\n",
    "dados = [\n",
    "    np.random.randint(1, 7, size=num_lanzamientos),  \n",
    "    np.random.binomial(5, 0.5, size=num_lanzamientos) + 1,  \n",
    "    np.random.binomial(5, 0.2, size=num_lanzamientos) + 1  \n",
    "]\n",
    "\n",
    "suma_resultados = np.sum(dados, axis=0)\n",
    "\n",
    "ocurrencias_7 = np.sum(suma_resultados == 7)\n",
    "ocurrencias_14 = np.sum(suma_resultados == 14)\n",
    "ocurrencias_18 = np.sum(suma_resultados == 18)\n",
    "\n",
    "prob_7 = ocurrencias_7 / num_lanzamientos\n",
    "prob_14 = ocurrencias_14 / num_lanzamientos\n",
    "prob_18 = ocurrencias_18 / num_lanzamientos\n",
    "\n",
    "print(\"Probabilidad de obtener una suma de 7:\", prob_7)\n",
    "print(\"Probabilidad de obtener una suma de 14:\", prob_14)\n",
    "print(\"Probabilidad de obtener una suma de 18:\", prob_18)"
   ]
  },
  {
   "cell_type": "markdown",
   "metadata": {},
   "source": [
    "### Ejercicio 2:\n",
    "\n",
    "En un casino, un jugador está jugando a lanzar un dado justo de 6 caras. Si el jugador lanza un número par, el casino paga $\\$1$ al jugador, de lo contrario, el jugador paga $\\$1$ al casino. El jugador decide jugar 100 veces.\n",
    "\n",
    "1. ¿Cuál es la probabilidad de que un jugador gane dinero después de 100 lanzamientos del dado bajo las reglas del juego (el casino paga $\\$1$ si el resultado es par y el jugador paga $\\$1$ si es impar)?\n",
    "\n",
    "2. ¿Cómo afectaría el cambio en las reglas del juego (por ejemplo, el casino paga $\\$2$ si el resultado es par y el jugador paga $\\$1$ si es impar) a la ganancia esperada para el jugador después de 100 lanzamientos?"
   ]
  },
  {
   "cell_type": "code",
   "execution_count": 65,
   "metadata": {},
   "outputs": [
    {
     "name": "stdout",
     "output_type": "stream",
     "text": [
      "Ganancia esperada: 0.11 Probabilidad: 0.463\n",
      "Ganancia esperada: 49.349 Probabilidad: 0.997\n"
     ]
    }
   ],
   "source": [
    "# Solución estudiante 1\n",
    "\n",
    "def simulacion_casino(ganancia_par, ganacia_impar):\n",
    "    resultados = np.random.randint(1, 7, size=100)\n",
    "    cantidad_pares = np.sum(resultados % 2 == 0)\n",
    "    ganancia = (ganancia_par * cantidad_pares) - (ganacia_impar * (100 - cantidad_pares))\n",
    "    return ganancia\n",
    "\n",
    "resultados_caso_1 = np.array([simulacion_casino(1,1) for i in range(1000)])\n",
    "probabilidad_caso_1 = np.sum(resultados_caso_1 > 0) / len(resultados_caso_1)\n",
    "print(f'Ganancia esperada: {np.mean(resultados_caso_1)} Probabilidad: {probabilidad_caso_1}')\n",
    "\n",
    "resultados_caso_2 = np.array([simulacion_casino(2,1) for i in range(1000)])\n",
    "probabilidad_caso_2 = np.sum(resultados_caso_2 > 0) / len(resultados_caso_1)\n",
    "print(f'Ganancia esperada: {np.mean(resultados_caso_2)} Probabilidad: {probabilidad_caso_2}')"
   ]
  },
  {
   "cell_type": "code",
   "execution_count": 3,
   "metadata": {},
   "outputs": [
    {
     "name": "stdout",
     "output_type": "stream",
     "text": [
      "Probabilidad de que gane dinero: 0.5397946186935895\n",
      "Probabilidad de que gane dinero con nuevas reglas: 0.5397946186935895\n"
     ]
    }
   ],
   "source": [
    "# Solución estudiante 2\n",
    "import scipy.stats as stats\n",
    "\n",
    "n_lanzamientos = 100\n",
    "p_par = 0.5  \n",
    "\n",
    "prob_ganar_dinero = 1 - stats.binom.cdf(n_lanzamientos // 2 - 1, n_lanzamientos, p_par)\n",
    "\n",
    "print(\"Probabilidad de que gane dinero:\", prob_ganar_dinero)\n",
    "\n",
    "p_par_nuevo = 0.5  \n",
    "p_impar_nuevo = 0.5  \n",
    "\n",
    "prob_ganar_dinero_nuevo = 1 - stats.binom.cdf(n_lanzamientos // 2 - 1, n_lanzamientos, p_par_nuevo)\n",
    "\n",
    "print(\"Probabilidad de que gane dinero con nuevas reglas:\", prob_ganar_dinero_nuevo)"
   ]
  }
 ],
 "metadata": {
  "kernelspec": {
   "display_name": "Python 3",
   "language": "python",
   "name": "python3"
  },
  "language_info": {
   "codemirror_mode": {
    "name": "ipython",
    "version": 3
   },
   "file_extension": ".py",
   "mimetype": "text/x-python",
   "name": "python",
   "nbconvert_exporter": "python",
   "pygments_lexer": "ipython3",
   "version": "3.9.12"
  }
 },
 "nbformat": 4,
 "nbformat_minor": 2
}
